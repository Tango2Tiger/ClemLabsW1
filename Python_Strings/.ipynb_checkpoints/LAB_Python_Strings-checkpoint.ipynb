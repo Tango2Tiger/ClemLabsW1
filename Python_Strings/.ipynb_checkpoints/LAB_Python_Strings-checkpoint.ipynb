{
 "cells": [
  {
   "cell_type": "markdown",
   "metadata": {},
   "source": [
    "# Lab -Python Strings Operations"
   ]
  },
  {
   "cell_type": "markdown",
   "metadata": {},
   "source": [
    "# Challenge 1 - Combining Strings\n",
    "\n",
    "Combining strings is an important skill to acquire. There are multiple ways of combining strings in Python, as well as combining strings with variables. We will explore this in the first challenge. In the cell below, combine the strings in the list and add spaces between the strings (do not add a space after the last string). Insert a period after the last string."
   ]
  },
  {
   "cell_type": "code",
   "execution_count": 30,
   "metadata": {},
   "outputs": [
    {
     "name": "stdout",
     "output_type": "stream",
     "text": [
      "I am strengthening my programming skills in order to become a great Data Analyst.\n",
      "I am strengthening my programming skills in order to become a great Data Analyst.\n"
     ]
    }
   ],
   "source": [
    "str_list = ['I', 'am', 'strengthening', 'my', 'programming', 'skills', 'in', 'order', 'to', 'become', 'a', 'great', 'Data','Analyst']\n",
    "\n",
    "onestring=''\n",
    "for string in range(len(str_list)):\n",
    "    if string!=len(str_list)-1:\n",
    "        onestring+=str_list[string]+' '\n",
    "    elif string==len(str_list)-1:\n",
    "        onestring+=str_list[string]+'.'\n",
    "\n",
    "    \n",
    "print(onestring)\n",
    "\n",
    "\n",
    "#Better solution here\n",
    "\n",
    "onestring2=''\n",
    "for index,stringg in enumerate(str_list):\n",
    "    if index!=len(str_list)-1:\n",
    "        onestring2+=stringg+' '\n",
    "    else:\n",
    "        onestring2+=stringg+'.'\n",
    "\n",
    "    \n",
    "\n",
    "print(onestring2)\n",
    "\n"
   ]
  },
  {
   "cell_type": "markdown",
   "metadata": {},
   "source": [
    "In the cell below, use the list of strings to create a grocery list. Start the list with the string `Grocery list: ` and include a comma and a space between each item except for the last one. Include a period at the end. Only include foods in the list that start with the letter 'b' and ensure all foods are lower case."
   ]
  },
  {
   "cell_type": "code",
   "execution_count": 43,
   "metadata": {},
   "outputs": [
    {
     "name": "stdout",
     "output_type": "stream",
     "text": [
      "Grocery list: bananas, bread, brownie mix, broccoli.\n"
     ]
    }
   ],
   "source": [
    "food_list = ['Bananas', 'Chocolate', 'bread', 'diapers', 'Ice Cream', 'Brownie Mix', 'broccoli']\n",
    "\n",
    "\n",
    "grocery_lst='Grocery list: '\n",
    "\n",
    "for index,b_groc in enumerate(food_list):\n",
    "    if b_groc[0]=='b'or b_groc[0]=='B':\n",
    "        if index!=0:\n",
    "            grocery_lst+=', '\n",
    "        grocery_lst+=b_groc.lower()\n",
    "grocery_lst+='.'\n",
    "        \n",
    "print(grocery_lst)"
   ]
  },
  {
   "cell_type": "markdown",
   "metadata": {},
   "source": [
    "In the cell below, compute the area of a circle using its radius and insert the radius and the area between `string1` and `string2`. Make sure to include spaces between the variable and the strings. \n",
    "\n",
    "Note: You can use the techniques we have learned so far or use f-strings. F-strings allow us to embed code inside strings. You can read more about f-strings [here](https://www.python.org/dev/peps/pep-0498/)."
   ]
  },
  {
   "cell_type": "code",
   "execution_count": 48,
   "metadata": {},
   "outputs": [
    {
     "name": "stdout",
     "output_type": "stream",
     "text": [
      "The area of the circle with radius: 4.5 is: 63.61725123519331\n",
      "The area of the circle with radius: 4.5 is: 63.61725123519331\n"
     ]
    }
   ],
   "source": [
    "import math\n",
    "\n",
    "string1 = \"The area of the circle with radius:\"\n",
    "string2  = \"is:\"\n",
    "radius = 4.5\n",
    "pi = math.pi\n",
    "area= pi*radius**2\n",
    "\n",
    "\n",
    "print(string1+' '+str(radius)+' '+string2+' '+str(area))\n",
    "\n",
    "\n",
    "#With f-string as well below.\n",
    "\n",
    "print(f'{string1} {radius} {string2} {area}')"
   ]
  },
  {
   "cell_type": "markdown",
   "metadata": {},
   "source": [
    "# (Optional) Challenge 2 - Splitting Strings\n",
    "\n",
    "We have first looked at combining strings into one long string. There are times where we need to do the opposite and split the string into smaller components for further analysis. \n",
    "\n",
    "In the cell below, split the string into a list of strings using the space delimiter. Count the frequency of each word in the string in a dictionary. Strip the periods, line breaks and commas from the text. Make sure to remove empty strings from your dictionary."
   ]
  },
  {
   "cell_type": "code",
   "execution_count": 63,
   "metadata": {},
   "outputs": [
    {
     "name": "stdout",
     "output_type": "stream",
     "text": [
      "['Some', 'say', 'the', 'world', 'will', 'end', 'in', 'fire,', 'Some', 'say', 'in', 'ice.', 'From', 'what', 'I’ve', 'tasted', 'of', 'desire', 'I', 'hold', 'with', 'those', 'who', 'favor', 'fire.', 'But', 'if', 'it', 'had', 'to', 'perish', 'twice,', 'I', 'think', 'I', 'know', 'enough', 'of', 'hate', 'To', 'say', 'that', 'for', 'destruction', 'ice', 'Is', 'also', 'great', 'And', 'would', 'suffice.']\n",
      "\n",
      "\n",
      "{'that': 1, 'desire': 1, 'great': 1, 'in': 2, 'But': 1, 'fire,': 1, 'From': 1, 'to': 1, 'with': 1, 'I': 3, 'favor': 1, 'will': 1, 'if': 1, 'suffice.': 1, 'the': 1, 'those': 1, 'world': 1, 'also': 1, 'ice.': 1, 'who': 1, 'hate': 1, 'enough': 1, 'fire.': 1, 'And': 1, 'think': 1, 'Is': 1, 'say': 3, 'would': 1, 'twice,': 1, 'perish': 1, 'end': 1, 'had': 1, 'it': 1, 'know': 1, 'for': 1, 'destruction': 1, 'I’ve': 1, 'what': 1, 'Some': 2, 'tasted': 1, 'To': 1, 'ice': 1, 'of': 2, 'hold': 1}\n"
     ]
    }
   ],
   "source": [
    "poem = \"\"\"Some say the world will end in fire,\n",
    "Some say in ice.\n",
    "From what I’ve tasted of desire\n",
    "I hold with those who favor fire.\n",
    "But if it had to perish twice,\n",
    "I think I know enough of hate\n",
    "To say that for destruction ice\n",
    "Is also great\n",
    "And would suffice.\"\"\"\n",
    "\n",
    "\n",
    "poem_lst=poem.split()\n",
    "print(poem_lst)\n",
    "print('\\n')\n",
    "set1=set(poem_lst)\n",
    "\n",
    "\n",
    "new_dict={}\n",
    "\n",
    "for word in set1:\n",
    "    new_dict[word]=poem_lst.count(word)\n",
    "\n",
    "print(new_dict)"
   ]
  },
  {
   "cell_type": "markdown",
   "metadata": {},
   "source": [
    "In the cell below, find all the words that appear in the text and do not appear in the blacklist. You must parse the string but can choose any data structure you wish for the words that do not appear in the blacklist. Remove all non letter characters and convert all words to lower case."
   ]
  },
  {
   "cell_type": "code",
   "execution_count": 86,
   "metadata": {},
   "outputs": [
    {
     "name": "stdout",
     "output_type": "stream",
     "text": [
      "['I', 'was', 'angry', 'with', 'my', 'friend;', 'I', 'told', 'my', 'wrath,', 'my', 'wrath', 'did', 'end.', 'I', 'was', 'angry', 'with', 'my', 'foe:', 'I', 'told', 'it', 'not,', 'my', 'wrath', 'did', 'grow.', 'And', 'I', 'waterd', 'it', 'in', 'fears,', 'Night', '&', 'morning', 'with', 'my', 'tears:', 'And', 'I', 'sunned', 'it', 'with', 'smiles,', 'And', 'with', 'soft', 'deceitful', 'wiles.', 'And', 'it', 'grew', 'both', 'day', 'and', 'night.', 'Till', 'it', 'bore', 'an', 'apple', 'bright.', 'And', 'my', 'foe', 'beheld', 'it', 'shine,', 'And', 'he', 'knew', 'that', 'it', 'was', 'mine.', 'And', 'into', 'my', 'garden', 'stole,', 'When', 'the', 'night', 'had', 'veild', 'the', 'pole;', 'In', 'the', 'morning', 'glad', 'I', 'see;', 'My', 'foe', 'outstretched', 'beneath', 'the', 'tree.']\n",
      "\n",
      "\n",
      "['i', 'was', 'angry', 'with', 'my', 'friend', 'i', 'told', 'wrath', 'did', 'end', 'i', 'foe', 'i', 'not', 'grow', 'and', 'i', 'waterd', 'fears', 'night', 'morning', 'tears', 'and', 'i', 'sunned', 'smiles', 'and', 'soft', 'deceitful', 'wiles', 'and', 'grew', 'both', 'day', 'night', 'till', 'bore', 'apple', 'bright', 'and', 'beheld', 'shine', 'and', 'he', 'knew', 'that', 'mine', 'and', 'into', 'garden', 'stole', 'when', 'had', 'veild', 'pole', 'in', 'glad', 'i', 'see', 'my', 'outstretched', 'beneath', 'tree']\n",
      "\n",
      "\n",
      "{'that', 'mine', 'in', 'till', 'when', 'smiles', 'into', 'with', 'not', 'deceitful', 'tree', 'he', 'angry', 'both', 'knew', 'outstretched', 'my', 'grew', 'friend', 'morning', 'see', 'wiles', 'pole', 'grow', 'day', 'apple', 'told', 'shine', 'beneath', 'foe', 'stole', 'and', 'garden', 'bright', 'wrath', 'i', 'fears', 'soft', 'was', 'end', 'did', 'waterd', 'night', 'had', 'veild', 'glad', 'sunned', 'bore', 'tears', 'beheld'}\n"
     ]
    }
   ],
   "source": [
    "blacklist = ['and', 'as', 'an', 'a', 'the', 'in', 'it']\n",
    "\n",
    "poem = \"\"\"I was angry with my friend; \n",
    "I told my wrath, my wrath did end.\n",
    "I was angry with my foe: \n",
    "I told it not, my wrath did grow. \n",
    "\n",
    "And I waterd it in fears,\n",
    "Night & morning with my tears: \n",
    "And I sunned it with smiles,\n",
    "And with soft deceitful wiles. \n",
    "\n",
    "And it grew both day and night. \n",
    "Till it bore an apple bright. \n",
    "And my foe beheld it shine,\n",
    "And he knew that it was mine. \n",
    "\n",
    "And into my garden stole, \n",
    "When the night had veild the pole; \n",
    "In the morning glad I see; \n",
    "My foe outstretched beneath the tree.\"\"\"\n",
    "\n",
    "\n",
    "\n",
    "poemlst=poem.split()\n",
    "print(poemlst)\n",
    "print('\\n')\n",
    "\n",
    "\n",
    "word_lst=[]\n",
    "\n",
    "\n",
    "for w in poemlst:\n",
    "    if w not in blacklist and w[0].isalpha()==True:\n",
    "        if w not in word_lst:\n",
    "            for index,char in enumerate(w):\n",
    "                if char.isalpha()==False:\n",
    "                    word_lst.append(w[:-1].lower())\n",
    "                    break\n",
    "                elif char.isalpha()==True:\n",
    "                    if index==len(w)-1:\n",
    "                        word_lst.append(w.lower())\n",
    "                    else:\n",
    "                        continue\n",
    "            \n",
    "\n",
    "set2=set(word_lst)\n",
    "print(word_lst)\n",
    "print('\\n')\n",
    "print(set2)"
   ]
  },
  {
   "cell_type": "code",
   "execution_count": null,
   "metadata": {},
   "outputs": [],
   "source": []
  }
 ],
 "metadata": {
  "file_extension": ".py",
  "kernelspec": {
   "display_name": "Python 3 (ipykernel)",
   "language": "python",
   "name": "python3"
  },
  "language_info": {
   "codemirror_mode": {
    "name": "ipython",
    "version": 3
   },
   "file_extension": ".py",
   "mimetype": "text/x-python",
   "name": "python",
   "nbconvert_exporter": "python",
   "pygments_lexer": "ipython3",
   "version": "3.9.12"
  },
  "mimetype": "text/x-python",
  "name": "python",
  "npconvert_exporter": "python",
  "pygments_lexer": "ipython3",
  "version": 3
 },
 "nbformat": 4,
 "nbformat_minor": 2
}
