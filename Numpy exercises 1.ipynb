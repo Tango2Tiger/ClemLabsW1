{
 "cells": [
  {
   "cell_type": "markdown",
   "id": "ce309cc5",
   "metadata": {},
   "source": [
    "# numpy exercises\n",
    "\n",
    "This is a collection of exercises that have been collected in the numpy mailing list, on stack overflow\n",
    "and in the numpy documentation. The goal of this collection is to offer a quick reference for both old\n",
    "and new users but also to provide a set of exercises for those who teach.\n",
    "\n",
    "\n",
    "If you find an error or think you've a better way to solve some of them, feel\n",
    "free to open an issue at <https://github.com/rougier/numpy-100>.\n",
    "File automatically generated. See the documentation to update questions/answers/hints programmatically.\n"
   ]
  },
  {
   "cell_type": "markdown",
   "id": "30d680b6",
   "metadata": {},
   "source": [
    "#### 1. Import the numpy package under the name `np` (★☆☆)\n",
    "`hint: import … as`"
   ]
  },
  {
   "cell_type": "code",
   "execution_count": 1,
   "id": "ab01125e",
   "metadata": {},
   "outputs": [],
   "source": [
    "import numpy as np"
   ]
  },
  {
   "cell_type": "markdown",
   "id": "c655ec8b",
   "metadata": {},
   "source": [
    "#### 2. Create a null vector of size 10 (★☆☆)\n",
    "`hint: np.zeros`\n"
   ]
  },
  {
   "cell_type": "code",
   "execution_count": 3,
   "id": "81b2d4eb",
   "metadata": {},
   "outputs": [
    {
     "name": "stdout",
     "output_type": "stream",
     "text": [
      "[0. 0. 0. 0. 0. 0. 0. 0. 0. 0.]\n"
     ]
    }
   ],
   "source": [
    "nullv=np.zeros(10)\n",
    "print(nullv)"
   ]
  },
  {
   "cell_type": "markdown",
   "id": "01b8bbcf",
   "metadata": {},
   "source": [
    "#### 3. Create a null vector of size 10 but the fifth value which is 1 (★☆☆)\n",
    "`hint: array[4]`\n"
   ]
  },
  {
   "cell_type": "code",
   "execution_count": 5,
   "id": "92a777fb",
   "metadata": {},
   "outputs": [
    {
     "name": "stdout",
     "output_type": "stream",
     "text": [
      "[0. 0. 0. 0. 1. 0. 0. 0. 0. 0.]\n"
     ]
    }
   ],
   "source": [
    "a1=np.zeros(10)\n",
    "a1[4]=1\n",
    "print(a1)"
   ]
  },
  {
   "cell_type": "markdown",
   "id": "b35bdd3d",
   "metadata": {},
   "source": [
    "#### 4. Create a vector with values ranging from 10 to 49 (★☆☆)\n",
    "`hint: arange`"
   ]
  },
  {
   "cell_type": "code",
   "execution_count": 7,
   "id": "1f6386d4",
   "metadata": {},
   "outputs": [
    {
     "name": "stdout",
     "output_type": "stream",
     "text": [
      "[10 11 12 13 14 15 16 17 18 19 20 21 22 23 24 25 26 27 28 29 30 31 32 33\n",
      " 34 35 36 37 38 39 40 41 42 43 44 45 46 47 48 49]\n"
     ]
    }
   ],
   "source": [
    "a2=np.arange(10,50)\n",
    "print(a2)"
   ]
  },
  {
   "cell_type": "markdown",
   "id": "95883b42",
   "metadata": {},
   "source": [
    "#### 5. Create a 3x3 matrix with values ranging from 0 to 8 (★☆☆)\n",
    "`hint: reshape`"
   ]
  },
  {
   "cell_type": "code",
   "execution_count": 9,
   "id": "91d1aae2",
   "metadata": {},
   "outputs": [
    {
     "name": "stdout",
     "output_type": "stream",
     "text": [
      "[[0 1 2]\n",
      " [3 4 5]\n",
      " [6 7 8]]\n"
     ]
    }
   ],
   "source": [
    "a3=np.reshape(np.arange(0,9),(3,3))\n",
    "print(a3)"
   ]
  },
  {
   "cell_type": "markdown",
   "id": "b90bb710",
   "metadata": {},
   "source": [
    "#### 6. Find indices of non-zero elements from [1,2,0,0,4,0] (★☆☆)\n",
    "`hint: np.nonzero`"
   ]
  },
  {
   "cell_type": "code",
   "execution_count": 12,
   "id": "cf08ca37",
   "metadata": {},
   "outputs": [
    {
     "name": "stdout",
     "output_type": "stream",
     "text": [
      "(array([0, 1, 4]),)\n"
     ]
    }
   ],
   "source": [
    "a6=np.nonzero([1,2,0,0,4,0])\n",
    "print(a6)"
   ]
  },
  {
   "cell_type": "markdown",
   "id": "246db5d5",
   "metadata": {},
   "source": [
    "#### 7. Create a 3x3 identity matrix (★☆☆)\n",
    "`hint: np.eye`"
   ]
  },
  {
   "cell_type": "code",
   "execution_count": 14,
   "id": "e9d9b320",
   "metadata": {},
   "outputs": [
    {
     "name": "stdout",
     "output_type": "stream",
     "text": [
      "[[1. 0. 0.]\n",
      " [0. 1. 0.]\n",
      " [0. 0. 1.]]\n"
     ]
    }
   ],
   "source": [
    "a7=np.eye(3,3)\n",
    "print(a7)"
   ]
  },
  {
   "cell_type": "markdown",
   "id": "c42adac1",
   "metadata": {},
   "source": [
    "#### 8. Create a 3x3x3 array with random values (★☆☆)\n",
    "`hint: np.random.random`"
   ]
  },
  {
   "cell_type": "code",
   "execution_count": 30,
   "id": "2761d6a0",
   "metadata": {},
   "outputs": [
    {
     "name": "stdout",
     "output_type": "stream",
     "text": [
      "[[[0.5906594  0.244188   0.95045519]\n",
      "  [0.36280949 0.44144373 0.22988594]\n",
      "  [0.72129669 0.84395579 0.56221253]]\n",
      "\n",
      " [[0.3868899  0.62237534 0.21356436]\n",
      "  [0.45787602 0.69696571 0.02148672]\n",
      "  [0.22171023 0.03801035 0.13677175]]\n",
      "\n",
      " [[0.51642621 0.83341268 0.33406024]\n",
      "  [0.48916887 0.64706011 0.39237751]\n",
      "  [0.90823294 0.62375245 0.40581237]]]\n"
     ]
    }
   ],
   "source": [
    "a8=np.random.random((3,3,3))\n",
    "print(a8)"
   ]
  },
  {
   "cell_type": "markdown",
   "id": "91d50b0c",
   "metadata": {},
   "source": [
    "#### 9. Create a 10x10 array with random values and find the minimum and maximum values (★☆☆)\n",
    "`hint: min, max`"
   ]
  },
  {
   "cell_type": "code",
   "execution_count": 36,
   "id": "2d4a9e66",
   "metadata": {},
   "outputs": [
    {
     "name": "stdout",
     "output_type": "stream",
     "text": [
      "[[0.46164766 0.06271809 0.95023124 0.24553862 0.85787606 0.77696121\n",
      "  0.19998362 0.35369199 0.96552904 0.25620589]\n",
      " [0.11365215 0.93079208 0.49938705 0.65560911 0.17249359 0.96423371\n",
      "  0.55496293 0.62497553 0.84588059 0.42889631]\n",
      " [0.04644681 0.0267856  0.73516853 0.69013298 0.25198364 0.04266352\n",
      "  0.01142972 0.59990448 0.50072096 0.19624444]\n",
      " [0.49884695 0.71996235 0.73703304 0.1645668  0.82780743 0.75582188\n",
      "  0.24652156 0.74902073 0.28236349 0.73181587]\n",
      " [0.45628156 0.62989073 0.74575951 0.75878043 0.85397372 0.63675212\n",
      "  0.50707951 0.19971596 0.26708224 0.56878916]\n",
      " [0.05228968 0.44455602 0.23732461 0.24734577 0.87424315 0.84531016\n",
      "  0.87643144 0.90741605 0.601115   0.56810785]\n",
      " [0.07224203 0.26440721 0.76475515 0.22641955 0.06925576 0.90325633\n",
      "  0.11187606 0.04799825 0.51538289 0.62218284]\n",
      " [0.5984476  0.54139099 0.8409227  0.12494084 0.36663671 0.68835732\n",
      "  0.13935212 0.1151808  0.54290595 0.22477307]\n",
      " [0.68802156 0.70830624 0.97439506 0.05635351 0.89587747 0.78645833\n",
      "  0.96130153 0.42871638 0.58700617 0.75256199]\n",
      " [0.33837744 0.73310332 0.57133825 0.12351489 0.87357846 0.51651908\n",
      "  0.37164839 0.17789057 0.43198448 0.90276625]]\n",
      "\n",
      "\n",
      "0.011429721173384144\n",
      "0.9743950617086894\n"
     ]
    }
   ],
   "source": [
    "a9=np.random.random((10,10))\n",
    "print(a9)\n",
    "print('\\n')\n",
    "print(a9.min())\n",
    "print(a9.max())"
   ]
  },
  {
   "cell_type": "markdown",
   "id": "7b15950c",
   "metadata": {},
   "source": [
    "#### 10. Create a random vector of size 30 and find the mean value (★☆☆)\n",
    "`hint: mean`"
   ]
  },
  {
   "cell_type": "code",
   "execution_count": 39,
   "id": "06ebad40",
   "metadata": {},
   "outputs": [
    {
     "name": "stdout",
     "output_type": "stream",
     "text": [
      "[0.67817064 0.40872489 0.77476988 0.28797202 0.18906978 0.48452753\n",
      " 0.904159   0.52684023 0.73198536 0.3004226  0.10200398 0.2220688\n",
      " 0.44854656 0.11119785 0.48110616 0.33018299 0.61305811 0.56853192\n",
      " 0.32495583 0.36365582 0.63142571 0.60708067 0.40918318 0.80348472\n",
      " 0.12536958 0.44327691 0.60267895 0.92349325 0.02420813 0.34094573]\n",
      "0.45876989250789213\n"
     ]
    }
   ],
   "source": [
    "a10=np.random.random(30)\n",
    "print(a10)\n",
    "print(a10.mean())"
   ]
  },
  {
   "cell_type": "markdown",
   "id": "d598cc2b",
   "metadata": {},
   "source": [
    "#### 11. Create a 5x5 matrix with values 1,2,3,4 just below the diagonal (★☆☆)\n",
    "`hint: np.diag`"
   ]
  },
  {
   "cell_type": "code",
   "execution_count": 51,
   "id": "d4dfc49e",
   "metadata": {},
   "outputs": [
    {
     "name": "stdout",
     "output_type": "stream",
     "text": [
      "[[0 0 0 0 0]\n",
      " [1 0 0 0 0]\n",
      " [0 2 0 0 0]\n",
      " [0 0 3 0 0]\n",
      " [0 0 0 4 0]]\n"
     ]
    }
   ],
   "source": [
    "a11=np.diag(np.arange(1,5),k=-1)\n",
    "print(a11)\n"
   ]
  },
  {
   "cell_type": "markdown",
   "id": "acfdb66c",
   "metadata": {},
   "source": [
    "#### 12. Normalize a 5x5 random matrix (★☆☆)\n",
    "`hint: (x -mean)/std`"
   ]
  },
  {
   "cell_type": "code",
   "execution_count": 53,
   "id": "2cf08ca8",
   "metadata": {},
   "outputs": [
    {
     "name": "stdout",
     "output_type": "stream",
     "text": [
      "[[0.97211016 0.36881768 0.02850872 0.9440793  0.51724794]\n",
      " [0.56680592 0.01347659 0.36486859 0.08711846 0.3172725 ]\n",
      " [0.06457905 0.79333797 0.04859221 0.8905809  0.36499925]\n",
      " [0.62825149 0.23913874 0.06522299 0.52128354 0.11859373]\n",
      " [0.16920665 0.57417173 0.90578317 0.62342634 0.10770495]]\n",
      "[[ 1.79088349 -0.13740622 -1.22512781  1.70128909  0.33701795]\n",
      " [ 0.49541898 -1.27317467 -0.1500286  -1.03779487 -0.30215889]\n",
      " [-1.10983707  1.2194781  -1.16093544  1.53029342 -0.14961097]\n",
      " [ 0.69181603 -0.551896   -1.10777887  0.34991687 -0.93719121]\n",
      " [-0.77541831  0.51896216  1.57888406  0.67639351 -0.97199474]]\n"
     ]
    }
   ],
   "source": [
    "a12=np.random.random((5,5))\n",
    "print(a12)\n",
    "print((a12-a12.mean())/a12.std())"
   ]
  },
  {
   "cell_type": "markdown",
   "id": "f283ef4a",
   "metadata": {},
   "source": [
    "#### 13. How to find common values between two arrays? (★☆☆)\n",
    "`hint: np.intersect1d`"
   ]
  },
  {
   "cell_type": "code",
   "execution_count": 56,
   "id": "f3b825a0",
   "metadata": {},
   "outputs": [
    {
     "name": "stdout",
     "output_type": "stream",
     "text": [
      "[6 7 8 9]\n"
     ]
    }
   ],
   "source": [
    "a13a=[[1,2,3],[4,5,6],[7,8,9]]\n",
    "a13b=[[6,7,8],[9,10,11]]\n",
    "\n",
    "print(np.intersect1d(a13a,a13b))"
   ]
  },
  {
   "cell_type": "markdown",
   "id": "239eab5c",
   "metadata": {},
   "source": [
    "#### 14. Create a random vector of size 10 and sort it (★★☆)\n",
    "`hint: sort`"
   ]
  },
  {
   "cell_type": "code",
   "execution_count": 62,
   "id": "0ad5128b",
   "metadata": {},
   "outputs": [
    {
     "name": "stdout",
     "output_type": "stream",
     "text": [
      "[0.2545445  0.7611068  0.03507541 0.16569592 0.71879612 0.67662617\n",
      " 0.97364717 0.09353011 0.44936768 0.60640319]\n",
      "[0.03507541 0.09353011 0.16569592 0.2545445  0.44936768 0.60640319\n",
      " 0.67662617 0.71879612 0.7611068  0.97364717]\n"
     ]
    }
   ],
   "source": [
    "a14=np.random.random((10))\n",
    "print(a14)\n",
    "print(np.sort(a14))"
   ]
  },
  {
   "cell_type": "markdown",
   "id": "1c90de2e",
   "metadata": {},
   "source": [
    "#### 15. Create random vector of size 10 and replace the maximum value by 0 (★★☆)\n",
    "`hint: argmax`"
   ]
  },
  {
   "cell_type": "code",
   "execution_count": 75,
   "id": "5858a2a1",
   "metadata": {},
   "outputs": [
    {
     "name": "stdout",
     "output_type": "stream",
     "text": [
      "[0.9298372  0.67150389 0.41469047 0.49394014 0.84472844 0.85063224\n",
      " 0.72918843 0.61400331 0.99366664 0.15493334]\n",
      "8\n",
      "[0.9298372  0.67150389 0.41469047 0.49394014 0.84472844 0.85063224\n",
      " 0.72918843 0.61400331 0.         0.15493334]\n"
     ]
    }
   ],
   "source": [
    "a15=np.random.random(10)\n",
    "print(a15)\n",
    "\n",
    "maxindex=np.argmax(a15)\n",
    "print(maxindex)\n",
    "a15[maxindex]=0\n",
    "print(a15)"
   ]
  },
  {
   "cell_type": "markdown",
   "id": "2ca4cb1c",
   "metadata": {},
   "source": [
    "#### 16. Subtract the mean of each row of a matrix (★★☆)\n",
    "`hint: mean(axis=,keepdims=)`"
   ]
  },
  {
   "cell_type": "code",
   "execution_count": 82,
   "id": "f4c94263",
   "metadata": {},
   "outputs": [
    {
     "name": "stdout",
     "output_type": "stream",
     "text": [
      "[[0.3882609  0.76435919 0.5676198  0.23716428 0.6155377 ]\n",
      " [0.36807814 0.02721862 0.92147213 0.00278452 0.92663927]\n",
      " [0.1885071  0.421889   0.11867723 0.43753259 0.21156544]\n",
      " [0.58621714 0.01497469 0.04914462 0.39853125 0.93828904]\n",
      " [0.825951   0.92968937 0.86176109 0.33830487 0.37387609]]\n",
      "\n",
      "\n",
      "[[0.51458837]\n",
      " [0.44923853]\n",
      " [0.27563427]\n",
      " [0.39743135]\n",
      " [0.66591648]]\n",
      "\n",
      "\n",
      "[[-0.12632747  0.24977082  0.05303143 -0.2774241   0.10094932]\n",
      " [-0.08116039 -0.42201991  0.47223359 -0.44645402  0.47740073]\n",
      " [-0.08712718  0.14625473 -0.15695704  0.16189832 -0.06406883]\n",
      " [ 0.18878579 -0.38245666 -0.34828672  0.0010999   0.54085769]\n",
      " [ 0.16003452  0.26377289  0.1958446  -0.32761162 -0.29204039]]\n"
     ]
    }
   ],
   "source": [
    "a16=np.random.random((5,5))\n",
    "print(a16)\n",
    "\n",
    "\n",
    "print('\\n')\n",
    "a16b=np.mean(a16,axis=1,keepdims=True)\n",
    "print(a16b)\n",
    "print('\\n')\n",
    "\n",
    "\n",
    "print(np.subtract(a16,a16b))"
   ]
  },
  {
   "cell_type": "markdown",
   "id": "57506856",
   "metadata": {},
   "source": [
    "#### 17. How to get the n largest values of an array (★★★)\n",
    "`Z = np.arange(10000)\n",
    "np.random.shuffle(Z)\n",
    "n = 5\n",
    "hint: np.argsort | np.argpartition`"
   ]
  },
  {
   "cell_type": "code",
   "execution_count": 106,
   "id": "fbd7d680",
   "metadata": {},
   "outputs": [
    {
     "name": "stdout",
     "output_type": "stream",
     "text": [
      "[   0    1    2 ... 9997 9998 9999]\n",
      "[1338 7363 7980 ... 6115  862 4913]\n",
      "[3065 3185  176 ... 3217 4157 4609]\n",
      "[1338 7363    2 ... 9997 9998 9999]\n",
      "[   0    1    2 ... 9997 9998 9999]\n",
      "[9999, 9998, 9997, 9996, 9995]\n"
     ]
    }
   ],
   "source": [
    "z=np.arange(10000)\n",
    "print(z)\n",
    "np.random.shuffle(z)\n",
    "print(z)\n",
    "n=5\n",
    "z=np.argsort(z)\n",
    "print(z)\n",
    "\n",
    "print(np.argpartition(z,1))\n",
    "\n",
    "\n",
    "q=np.sort(z)\n",
    "print(q)\n",
    "lst=[]\n",
    "for i in range(1,n+1):\n",
    "    lst.append(q[-i])\n",
    "    \n",
    "print(lst)"
   ]
  },
  {
   "cell_type": "markdown",
   "id": "23d018fe",
   "metadata": {},
   "source": [
    "#### 18. Create a random 5*3 matrix and replace items that are larger than 4 by their squares ( Example:  6 --> 36) \n",
    "`hint: np.where`"
   ]
  },
  {
   "cell_type": "code",
   "execution_count": 119,
   "id": "d8b5b4cd",
   "metadata": {},
   "outputs": [
    {
     "name": "stdout",
     "output_type": "stream",
     "text": [
      "[[2 2 6]\n",
      " [1 5 8]\n",
      " [7 1 9]\n",
      " [8 3 5]\n",
      " [2 3 2]]\n",
      "\n",
      "\n",
      "[[ 4  4 36]\n",
      " [ 1 25 64]\n",
      " [49  1 81]\n",
      " [64  9 25]\n",
      " [ 4  9  4]]\n"
     ]
    }
   ],
   "source": [
    "a18=np.random.randint(1,10,size=(5,3))\n",
    "print(a18)\n",
    "print('\\n')\n",
    "a18=np.where(type(a18)==int,a18,a18**2)\n",
    "print(a18)"
   ]
  },
  {
   "cell_type": "code",
   "execution_count": null,
   "id": "2fbb54e7",
   "metadata": {},
   "outputs": [],
   "source": []
  }
 ],
 "metadata": {
  "kernelspec": {
   "display_name": "Python 3 (ipykernel)",
   "language": "python",
   "name": "python3"
  },
  "language_info": {
   "codemirror_mode": {
    "name": "ipython",
    "version": 3
   },
   "file_extension": ".py",
   "mimetype": "text/x-python",
   "name": "python",
   "nbconvert_exporter": "python",
   "pygments_lexer": "ipython3",
   "version": "3.9.12"
  }
 },
 "nbformat": 4,
 "nbformat_minor": 5
}
